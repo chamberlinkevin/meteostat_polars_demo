{
  "cells": [
    {
      "cell_type": "markdown",
      "metadata": {
        "id": "view-in-github",
        "colab_type": "text"
      },
      "source": [
        "<a href=\"https://colab.research.google.com/github/chamberlinkevin/meteostat_polars_demo/blob/main/Weather_Project_Polars_Meteostat.ipynb\" target=\"_parent\"><img src=\"https://colab.research.google.com/assets/colab-badge.svg\" alt=\"Open In Colab\"/></a>"
      ]
    },
    {
      "cell_type": "markdown",
      "id": "13cd347e",
      "metadata": {
        "id": "13cd347e"
      },
      "source": [
        "# 🌤️ Weather Data Project with Polars and Meteostat\n",
        "\n",
        "In this project, you'll use Python to:\n",
        "- Fetch real-world weather data from [Meteostat](https://dev.meteostat.net/python/), an open-source Weather tool\n",
        "- Analyze it using [Polars](https://pola.rs/), a fast and friendly DataFrame library\n",
        "- Visualize it with [matplotlib](https://matplotlib.org/), an industry standard\n",
        "graphing library\n",
        "\n",
        "This is a great way to explore Python libraries, data types, and thinking like a data problem-solver!"
      ]
    },
    {
      "cell_type": "code",
      "execution_count": null,
      "id": "b0cbb8d4",
      "metadata": {
        "colab": {
          "base_uri": "https://localhost:8080/"
        },
        "id": "b0cbb8d4",
        "outputId": "9dbacbc4-98f1-4f71-f68a-936559f5f4cd"
      },
      "outputs": [
        {
          "output_type": "stream",
          "name": "stdout",
          "text": [
            "Requirement already satisfied: polars in /usr/local/lib/python3.11/dist-packages (1.21.0)\n",
            "Collecting meteostat\n",
            "  Downloading meteostat-1.7.4-py3-none-any.whl.metadata (4.6 kB)\n",
            "Requirement already satisfied: matplotlib in /usr/local/lib/python3.11/dist-packages (3.10.0)\n",
            "Requirement already satisfied: pandas>=2 in /usr/local/lib/python3.11/dist-packages (from meteostat) (2.2.2)\n",
            "Requirement already satisfied: pytz in /usr/local/lib/python3.11/dist-packages (from meteostat) (2025.2)\n",
            "Requirement already satisfied: numpy in /usr/local/lib/python3.11/dist-packages (from meteostat) (2.0.2)\n",
            "Requirement already satisfied: contourpy>=1.0.1 in /usr/local/lib/python3.11/dist-packages (from matplotlib) (1.3.2)\n",
            "Requirement already satisfied: cycler>=0.10 in /usr/local/lib/python3.11/dist-packages (from matplotlib) (0.12.1)\n",
            "Requirement already satisfied: fonttools>=4.22.0 in /usr/local/lib/python3.11/dist-packages (from matplotlib) (4.58.5)\n",
            "Requirement already satisfied: kiwisolver>=1.3.1 in /usr/local/lib/python3.11/dist-packages (from matplotlib) (1.4.8)\n",
            "Requirement already satisfied: packaging>=20.0 in /usr/local/lib/python3.11/dist-packages (from matplotlib) (24.2)\n",
            "Requirement already satisfied: pillow>=8 in /usr/local/lib/python3.11/dist-packages (from matplotlib) (11.2.1)\n",
            "Requirement already satisfied: pyparsing>=2.3.1 in /usr/local/lib/python3.11/dist-packages (from matplotlib) (3.2.3)\n",
            "Requirement already satisfied: python-dateutil>=2.7 in /usr/local/lib/python3.11/dist-packages (from matplotlib) (2.9.0.post0)\n",
            "Requirement already satisfied: tzdata>=2022.7 in /usr/local/lib/python3.11/dist-packages (from pandas>=2->meteostat) (2025.2)\n",
            "Requirement already satisfied: six>=1.5 in /usr/local/lib/python3.11/dist-packages (from python-dateutil>=2.7->matplotlib) (1.17.0)\n",
            "Downloading meteostat-1.7.4-py3-none-any.whl (33 kB)\n",
            "Installing collected packages: meteostat\n",
            "Successfully installed meteostat-1.7.4\n"
          ]
        }
      ],
      "source": [
        "!pip install polars meteostat matplotlib"
      ]
    },
    {
      "cell_type": "code",
      "execution_count": null,
      "id": "ca5d944b",
      "metadata": {
        "id": "ca5d944b"
      },
      "outputs": [],
      "source": [
        "from datetime import datetime, timedelta\n",
        "from meteostat import Daily, Point\n",
        "import meteostat\n",
        "import polars as pl\n",
        "import matplotlib.pyplot as plt"
      ]
    },
    {
      "cell_type": "markdown",
      "id": "b0f48f74",
      "metadata": {
        "id": "b0f48f74"
      },
      "source": [
        "## 📅 Set the Date Range"
      ]
    },
    {
      "cell_type": "code",
      "execution_count": null,
      "id": "1e28cd63",
      "metadata": {
        "colab": {
          "base_uri": "https://localhost:8080/"
        },
        "id": "1e28cd63",
        "outputId": "d0a802f9-e5b9-475c-eb35-3773a4d9d73d"
      },
      "outputs": [
        {
          "output_type": "stream",
          "name": "stdout",
          "text": [
            "Start: 2025-06-15, End: 2025-07-15\n"
          ]
        }
      ],
      "source": [
        "end = datetime.today()\n",
        "start = end - timedelta(days=30)\n",
        "print(f\"Start: {start.date()}, End: {end.date()}\")"
      ]
    },
    {
      "cell_type": "markdown",
      "id": "e338d77f",
      "metadata": {
        "id": "e338d77f"
      },
      "source": [
        "## 📍 Choose a Location"
      ]
    },
    {
      "cell_type": "code",
      "execution_count": null,
      "id": "758b6c3d",
      "metadata": {
        "id": "758b6c3d"
      },
      "outputs": [],
      "source": [
        "# New York City by default; you can change to any lat/lon\n",
        "location = Point(40.7128, -74.0060)"
      ]
    },
    {
      "cell_type": "markdown",
      "id": "c7f79e01",
      "metadata": {
        "id": "c7f79e01"
      },
      "source": [
        "## 🌡️ Get Weather Data from Meteostat"
      ]
    },
    {
      "cell_type": "code",
      "execution_count": null,
      "id": "d58d4127",
      "metadata": {
        "colab": {
          "base_uri": "https://localhost:8080/",
          "height": 255
        },
        "id": "d58d4127",
        "outputId": "ad9550f2-2e27-4fda-d7e9-f75248ca7d93"
      },
      "outputs": [
        {
          "output_type": "execute_result",
          "data": {
            "text/plain": [
              "shape: (5, 11)\n",
              "┌─────────────────────┬──────┬──────┬──────┬───┬──────┬──────┬────────┬──────┐\n",
              "│ time                ┆ tavg ┆ tmin ┆ tmax ┆ … ┆ wspd ┆ wpgt ┆ pres   ┆ tsun │\n",
              "│ ---                 ┆ ---  ┆ ---  ┆ ---  ┆   ┆ ---  ┆ ---  ┆ ---    ┆ ---  │\n",
              "│ datetime[ns]        ┆ f64  ┆ f64  ┆ f64  ┆   ┆ f64  ┆ f64  ┆ f64    ┆ f64  │\n",
              "╞═════════════════════╪══════╪══════╪══════╪═══╪══════╪══════╪════════╪══════╡\n",
              "│ 2025-06-16 00:00:00 ┆ 18.3 ┆ 15.7 ┆ 21.0 ┆ … ┆ 14.0 ┆ null ┆ 1020.3 ┆ null │\n",
              "│ 2025-06-17 00:00:00 ┆ 18.9 ┆ 16.8 ┆ 22.0 ┆ … ┆ 7.2  ┆ null ┆ 1017.5 ┆ null │\n",
              "│ 2025-06-18 00:00:00 ┆ 23.2 ┆ 18.2 ┆ 32.0 ┆ … ┆ 2.6  ┆ null ┆ 1013.6 ┆ null │\n",
              "│ 2025-06-19 00:00:00 ┆ 26.4 ┆ 21.3 ┆ 33.9 ┆ … ┆ 8.2  ┆ null ┆ 1009.1 ┆ null │\n",
              "│ 2025-06-20 00:00:00 ┆ 25.2 ┆ 18.6 ┆ 31.1 ┆ … ┆ 13.2 ┆ null ┆ 1012.2 ┆ null │\n",
              "└─────────────────────┴──────┴──────┴──────┴───┴──────┴──────┴────────┴──────┘"
            ],
            "text/html": [
              "<div><style>\n",
              ".dataframe > thead > tr,\n",
              ".dataframe > tbody > tr {\n",
              "  text-align: right;\n",
              "  white-space: pre-wrap;\n",
              "}\n",
              "</style>\n",
              "<small>shape: (5, 11)</small><table border=\"1\" class=\"dataframe\"><thead><tr><th>time</th><th>tavg</th><th>tmin</th><th>tmax</th><th>prcp</th><th>snow</th><th>wdir</th><th>wspd</th><th>wpgt</th><th>pres</th><th>tsun</th></tr><tr><td>datetime[ns]</td><td>f64</td><td>f64</td><td>f64</td><td>f64</td><td>f64</td><td>f64</td><td>f64</td><td>f64</td><td>f64</td><td>f64</td></tr></thead><tbody><tr><td>2025-06-16 00:00:00</td><td>18.3</td><td>15.7</td><td>21.0</td><td>1.7</td><td>0.0</td><td>null</td><td>14.0</td><td>null</td><td>1020.3</td><td>null</td></tr><tr><td>2025-06-17 00:00:00</td><td>18.9</td><td>16.8</td><td>22.0</td><td>1.7</td><td>0.0</td><td>null</td><td>7.2</td><td>null</td><td>1017.5</td><td>null</td></tr><tr><td>2025-06-18 00:00:00</td><td>23.2</td><td>18.2</td><td>32.0</td><td>10.2</td><td>0.0</td><td>null</td><td>2.6</td><td>null</td><td>1013.6</td><td>null</td></tr><tr><td>2025-06-19 00:00:00</td><td>26.4</td><td>21.3</td><td>33.9</td><td>2.5</td><td>0.0</td><td>null</td><td>8.2</td><td>null</td><td>1009.1</td><td>null</td></tr><tr><td>2025-06-20 00:00:00</td><td>25.2</td><td>18.6</td><td>31.1</td><td>0.2</td><td>0.0</td><td>null</td><td>13.2</td><td>null</td><td>1012.2</td><td>null</td></tr></tbody></table></div>"
            ]
          },
          "metadata": {},
          "execution_count": 5
        }
      ],
      "source": [
        "data = Daily(location, start, end)\n",
        "df = data.fetch()\n",
        "\n",
        "# Convert to Polars DataFrame\n",
        "pl_df = pl.from_pandas(df.reset_index())\n",
        "pl_df.head()"
      ]
    },
    {
      "cell_type": "markdown",
      "source": [
        "### NOTE: Read the docs! Python packages often have documentation that is very useful. You can visit the Meteostat website to read the documentation, or run the cell below to view it in your notebook!\n",
        "[Meteostat Developers Link](https://dev.meteostat.net/python/)"
      ],
      "metadata": {
        "id": "ot_eN0HFzfbP"
      },
      "id": "ot_eN0HFzfbP"
    },
    {
      "cell_type": "code",
      "source": [
        "help(meteostat)"
      ],
      "metadata": {
        "colab": {
          "base_uri": "https://localhost:8080/"
        },
        "id": "BLSIXsOI1oa5",
        "outputId": "0496dcef-bff4-421b-d8a0-fb79471c9153"
      },
      "id": "BLSIXsOI1oa5",
      "execution_count": null,
      "outputs": [
        {
          "output_type": "stream",
          "name": "stdout",
          "text": [
            "Help on package meteostat:\n",
            "\n",
            "NAME\n",
            "    meteostat\n",
            "\n",
            "DESCRIPTION\n",
            "    █▀▄▀█ █▀▀ ▀█▀ █▀▀ █▀█ █▀ ▀█▀ ▄▀█ ▀█▀\n",
            "    █░▀░█ ██▄ ░█░ ██▄ █▄█ ▄█ ░█░ █▀█ ░█░\n",
            "    \n",
            "    A Python library for accessing open weather and climate data\n",
            "    \n",
            "    Meteorological data provided by Meteostat (https://dev.meteostat.net)\n",
            "    under the terms of the Creative Commons Attribution-NonCommercial\n",
            "    4.0 International Public License.\n",
            "    \n",
            "    The code is licensed under the MIT license.\n",
            "\n",
            "PACKAGE CONTENTS\n",
            "    core (package)\n",
            "    enumerations (package)\n",
            "    interface (package)\n",
            "    series (package)\n",
            "    units\n",
            "    utilities (package)\n",
            "\n",
            "CLASSES\n",
            "    builtins.object\n",
            "        meteostat.interface.base.Base\n",
            "            meteostat.interface.stations.Stations\n",
            "        meteostat.interface.point.Point\n",
            "    meteostat.interface.meteodata.MeteoData(meteostat.interface.base.Base)\n",
            "        meteostat.interface.normals.Normals\n",
            "        meteostat.interface.timeseries.TimeSeries\n",
            "            meteostat.interface.daily.Daily\n",
            "            meteostat.interface.hourly.Hourly\n",
            "            meteostat.interface.monthly.Monthly\n",
            "    \n",
            "    class Base(builtins.object)\n",
            "     |  Base class that provides features which are used across the package\n",
            "     |  \n",
            "     |  Data descriptors defined here:\n",
            "     |  \n",
            "     |  __dict__\n",
            "     |      dictionary for instance variables\n",
            "     |  \n",
            "     |  __weakref__\n",
            "     |      list of weak references to the object\n",
            "     |  \n",
            "     |  ----------------------------------------------------------------------\n",
            "     |  Data and other attributes defined here:\n",
            "     |  \n",
            "     |  __annotations__ = {'proxy': typing.Optional[str]}\n",
            "     |  \n",
            "     |  autoclean = True\n",
            "     |  \n",
            "     |  cache_dir = '/root/.meteostat/cache'\n",
            "     |  \n",
            "     |  endpoint = 'https://bulk.meteostat.net/v2/'\n",
            "     |  \n",
            "     |  max_age = 86400\n",
            "     |  \n",
            "     |  processes = 1\n",
            "     |  \n",
            "     |  proxy = None\n",
            "     |  \n",
            "     |  threads = 1\n",
            "    \n",
            "    class Daily(meteostat.interface.timeseries.TimeSeries)\n",
            "     |  Daily(loc: Union[pandas.core.frame.DataFrame, meteostat.interface.point.Point, list, str], start=datetime.datetime(1781, 1, 1, 0, 0), end=datetime.datetime(2025, 7, 25, 23, 59, 59, 999999), model=True, flags=False) -> None\n",
            "     |  \n",
            "     |  Retrieve daily weather observations for one or multiple weather stations or\n",
            "     |  a single geographical point\n",
            "     |  \n",
            "     |  Method resolution order:\n",
            "     |      Daily\n",
            "     |      meteostat.interface.timeseries.TimeSeries\n",
            "     |      meteostat.interface.meteodata.MeteoData\n",
            "     |      meteostat.interface.base.Base\n",
            "     |      builtins.object\n",
            "     |  \n",
            "     |  Methods defined here:\n",
            "     |  \n",
            "     |  __init__(self, loc: Union[pandas.core.frame.DataFrame, meteostat.interface.point.Point, list, str], start=datetime.datetime(1781, 1, 1, 0, 0), end=datetime.datetime(2025, 7, 25, 23, 59, 59, 999999), model=True, flags=False) -> None\n",
            "     |      Initialize self.  See help(type(self)) for accurate signature.\n",
            "     |  \n",
            "     |  expected_rows(self) -> int\n",
            "     |      Return the number of rows expected for the defined date range\n",
            "     |  \n",
            "     |  ----------------------------------------------------------------------\n",
            "     |  Data and other attributes defined here:\n",
            "     |  \n",
            "     |  __annotations__ = {}\n",
            "     |  \n",
            "     |  aggregations = {'prcp': 'sum', 'pres': 'mean', 'snow': 'max', 'tavg': ...\n",
            "     |  \n",
            "     |  cache_subdir = 'daily'\n",
            "     |  \n",
            "     |  chunked = True\n",
            "     |  \n",
            "     |  granularity = <Granularity.DAILY: 'daily'>\n",
            "     |  \n",
            "     |  ----------------------------------------------------------------------\n",
            "     |  Methods inherited from meteostat.interface.timeseries.TimeSeries:\n",
            "     |  \n",
            "     |  aggregate(self, freq: str = None, spatial: bool = False) from meteostat.series.aggregate\n",
            "     |      Aggregate observations\n",
            "     |  \n",
            "     |  convert(self, units: dict) from meteostat.series.convert\n",
            "     |      Convert columns to a different unit\n",
            "     |  \n",
            "     |  count(self) -> int from meteostat.series.count\n",
            "     |      Return number of rows in DataFrame\n",
            "     |  \n",
            "     |  coverage(self, parameter: str = None) -> float from meteostat.series.coverage\n",
            "     |      Calculate data coverage (overall or by parameter)\n",
            "     |  \n",
            "     |  fetch(self) -> pandas.core.frame.DataFrame from meteostat.series.fetch\n",
            "     |      Fetch DataFrame\n",
            "     |  \n",
            "     |  interpolate(self, limit: int = 3) from meteostat.series.interpolate\n",
            "     |      Interpolate NULL values\n",
            "     |  \n",
            "     |  normalize(self) from meteostat.series.normalize\n",
            "     |      Normalize the DataFrame\n",
            "     |  \n",
            "     |  ----------------------------------------------------------------------\n",
            "     |  Class methods inherited from meteostat.interface.timeseries.TimeSeries:\n",
            "     |  \n",
            "     |  clear_cache(max_age: int = None) -> None from meteostat.core.cache\n",
            "     |      Clear the cache\n",
            "     |  \n",
            "     |  ----------------------------------------------------------------------\n",
            "     |  Readonly properties inherited from meteostat.interface.timeseries.TimeSeries:\n",
            "     |  \n",
            "     |  stations\n",
            "     |      Fetch Weather Stations\n",
            "     |  \n",
            "     |  ----------------------------------------------------------------------\n",
            "     |  Data and other attributes inherited from meteostat.interface.timeseries.TimeSeries:\n",
            "     |  \n",
            "     |  endpoint = 'https://data.meteostat.net/'\n",
            "     |  \n",
            "     |  ----------------------------------------------------------------------\n",
            "     |  Data descriptors inherited from meteostat.interface.base.Base:\n",
            "     |  \n",
            "     |  __dict__\n",
            "     |      dictionary for instance variables\n",
            "     |  \n",
            "     |  __weakref__\n",
            "     |      list of weak references to the object\n",
            "     |  \n",
            "     |  ----------------------------------------------------------------------\n",
            "     |  Data and other attributes inherited from meteostat.interface.base.Base:\n",
            "     |  \n",
            "     |  autoclean = True\n",
            "     |  \n",
            "     |  cache_dir = '/root/.meteostat/cache'\n",
            "     |  \n",
            "     |  max_age = 86400\n",
            "     |  \n",
            "     |  processes = 1\n",
            "     |  \n",
            "     |  proxy = None\n",
            "     |  \n",
            "     |  threads = 1\n",
            "    \n",
            "    class Hourly(meteostat.interface.timeseries.TimeSeries)\n",
            "     |  Hourly(loc: Union[pandas.core.frame.DataFrame, meteostat.interface.point.Point, list, str], start=datetime.datetime(1890, 1, 1, 0, 0), end=datetime.datetime(2025, 7, 25, 23, 59, 59, 999999), timezone: Optional[str] = None, model=True, flags=False) -> None\n",
            "     |  \n",
            "     |  Retrieve hourly weather observations for one or multiple weather stations or\n",
            "     |  a single geographical point\n",
            "     |  \n",
            "     |  Method resolution order:\n",
            "     |      Hourly\n",
            "     |      meteostat.interface.timeseries.TimeSeries\n",
            "     |      meteostat.interface.meteodata.MeteoData\n",
            "     |      meteostat.interface.base.Base\n",
            "     |      builtins.object\n",
            "     |  \n",
            "     |  Methods defined here:\n",
            "     |  \n",
            "     |  __init__(self, loc: Union[pandas.core.frame.DataFrame, meteostat.interface.point.Point, list, str], start=datetime.datetime(1890, 1, 1, 0, 0), end=datetime.datetime(2025, 7, 25, 23, 59, 59, 999999), timezone: Optional[str] = None, model=True, flags=False) -> None\n",
            "     |      Initialize self.  See help(type(self)) for accurate signature.\n",
            "     |  \n",
            "     |  expected_rows(self) -> int\n",
            "     |      Return the number of rows expected for the defined date range\n",
            "     |  \n",
            "     |  ----------------------------------------------------------------------\n",
            "     |  Data and other attributes defined here:\n",
            "     |  \n",
            "     |  __annotations__ = {'_timezone': typing.Optional[str]}\n",
            "     |  \n",
            "     |  aggregations = {'coco': 'max', 'dwpt': 'mean', 'prcp': 'sum', 'pres': ...\n",
            "     |  \n",
            "     |  cache_subdir = 'hourly'\n",
            "     |  \n",
            "     |  chunked = True\n",
            "     |  \n",
            "     |  granularity = <Granularity.HOURLY: 'hourly'>\n",
            "     |  \n",
            "     |  ----------------------------------------------------------------------\n",
            "     |  Methods inherited from meteostat.interface.timeseries.TimeSeries:\n",
            "     |  \n",
            "     |  aggregate(self, freq: str = None, spatial: bool = False) from meteostat.series.aggregate\n",
            "     |      Aggregate observations\n",
            "     |  \n",
            "     |  convert(self, units: dict) from meteostat.series.convert\n",
            "     |      Convert columns to a different unit\n",
            "     |  \n",
            "     |  count(self) -> int from meteostat.series.count\n",
            "     |      Return number of rows in DataFrame\n",
            "     |  \n",
            "     |  coverage(self, parameter: str = None) -> float from meteostat.series.coverage\n",
            "     |      Calculate data coverage (overall or by parameter)\n",
            "     |  \n",
            "     |  fetch(self) -> pandas.core.frame.DataFrame from meteostat.series.fetch\n",
            "     |      Fetch DataFrame\n",
            "     |  \n",
            "     |  interpolate(self, limit: int = 3) from meteostat.series.interpolate\n",
            "     |      Interpolate NULL values\n",
            "     |  \n",
            "     |  normalize(self) from meteostat.series.normalize\n",
            "     |      Normalize the DataFrame\n",
            "     |  \n",
            "     |  ----------------------------------------------------------------------\n",
            "     |  Class methods inherited from meteostat.interface.timeseries.TimeSeries:\n",
            "     |  \n",
            "     |  clear_cache(max_age: int = None) -> None from meteostat.core.cache\n",
            "     |      Clear the cache\n",
            "     |  \n",
            "     |  ----------------------------------------------------------------------\n",
            "     |  Readonly properties inherited from meteostat.interface.timeseries.TimeSeries:\n",
            "     |  \n",
            "     |  stations\n",
            "     |      Fetch Weather Stations\n",
            "     |  \n",
            "     |  ----------------------------------------------------------------------\n",
            "     |  Data and other attributes inherited from meteostat.interface.timeseries.TimeSeries:\n",
            "     |  \n",
            "     |  endpoint = 'https://data.meteostat.net/'\n",
            "     |  \n",
            "     |  ----------------------------------------------------------------------\n",
            "     |  Data descriptors inherited from meteostat.interface.base.Base:\n",
            "     |  \n",
            "     |  __dict__\n",
            "     |      dictionary for instance variables\n",
            "     |  \n",
            "     |  __weakref__\n",
            "     |      list of weak references to the object\n",
            "     |  \n",
            "     |  ----------------------------------------------------------------------\n",
            "     |  Data and other attributes inherited from meteostat.interface.base.Base:\n",
            "     |  \n",
            "     |  autoclean = True\n",
            "     |  \n",
            "     |  cache_dir = '/root/.meteostat/cache'\n",
            "     |  \n",
            "     |  max_age = 86400\n",
            "     |  \n",
            "     |  processes = 1\n",
            "     |  \n",
            "     |  proxy = None\n",
            "     |  \n",
            "     |  threads = 1\n",
            "    \n",
            "    class Monthly(meteostat.interface.timeseries.TimeSeries)\n",
            "     |  Monthly(loc: Union[pandas.core.frame.DataFrame, meteostat.interface.point.Point, list, str], start: datetime.datetime = None, end: datetime.datetime = None, model: bool = True, flags: bool = False) -> None\n",
            "     |  \n",
            "     |  Retrieve monthly weather data for one or multiple weather stations or\n",
            "     |  a single geographical point\n",
            "     |  \n",
            "     |  Method resolution order:\n",
            "     |      Monthly\n",
            "     |      meteostat.interface.timeseries.TimeSeries\n",
            "     |      meteostat.interface.meteodata.MeteoData\n",
            "     |      meteostat.interface.base.Base\n",
            "     |      builtins.object\n",
            "     |  \n",
            "     |  Methods defined here:\n",
            "     |  \n",
            "     |  __init__(self, loc: Union[pandas.core.frame.DataFrame, meteostat.interface.point.Point, list, str], start: datetime.datetime = None, end: datetime.datetime = None, model: bool = True, flags: bool = False) -> None\n",
            "     |      Initialize self.  See help(type(self)) for accurate signature.\n",
            "     |  \n",
            "     |  expected_rows(self) -> int\n",
            "     |      Return the number of rows expected for the defined date range\n",
            "     |  \n",
            "     |  ----------------------------------------------------------------------\n",
            "     |  Data and other attributes defined here:\n",
            "     |  \n",
            "     |  __annotations__ = {}\n",
            "     |  \n",
            "     |  aggregations = {'prcp': 'sum', 'pres': 'mean', 'tavg': 'mean', 'tmax':...\n",
            "     |  \n",
            "     |  cache_subdir = 'monthly'\n",
            "     |  \n",
            "     |  granularity = <Granularity.MONTHLY: 'monthly'>\n",
            "     |  \n",
            "     |  ----------------------------------------------------------------------\n",
            "     |  Methods inherited from meteostat.interface.timeseries.TimeSeries:\n",
            "     |  \n",
            "     |  aggregate(self, freq: str = None, spatial: bool = False) from meteostat.series.aggregate\n",
            "     |      Aggregate observations\n",
            "     |  \n",
            "     |  convert(self, units: dict) from meteostat.series.convert\n",
            "     |      Convert columns to a different unit\n",
            "     |  \n",
            "     |  count(self) -> int from meteostat.series.count\n",
            "     |      Return number of rows in DataFrame\n",
            "     |  \n",
            "     |  coverage(self, parameter: str = None) -> float from meteostat.series.coverage\n",
            "     |      Calculate data coverage (overall or by parameter)\n",
            "     |  \n",
            "     |  fetch(self) -> pandas.core.frame.DataFrame from meteostat.series.fetch\n",
            "     |      Fetch DataFrame\n",
            "     |  \n",
            "     |  interpolate(self, limit: int = 3) from meteostat.series.interpolate\n",
            "     |      Interpolate NULL values\n",
            "     |  \n",
            "     |  normalize(self) from meteostat.series.normalize\n",
            "     |      Normalize the DataFrame\n",
            "     |  \n",
            "     |  ----------------------------------------------------------------------\n",
            "     |  Class methods inherited from meteostat.interface.timeseries.TimeSeries:\n",
            "     |  \n",
            "     |  clear_cache(max_age: int = None) -> None from meteostat.core.cache\n",
            "     |      Clear the cache\n",
            "     |  \n",
            "     |  ----------------------------------------------------------------------\n",
            "     |  Readonly properties inherited from meteostat.interface.timeseries.TimeSeries:\n",
            "     |  \n",
            "     |  stations\n",
            "     |      Fetch Weather Stations\n",
            "     |  \n",
            "     |  ----------------------------------------------------------------------\n",
            "     |  Data and other attributes inherited from meteostat.interface.timeseries.TimeSeries:\n",
            "     |  \n",
            "     |  endpoint = 'https://data.meteostat.net/'\n",
            "     |  \n",
            "     |  ----------------------------------------------------------------------\n",
            "     |  Data descriptors inherited from meteostat.interface.base.Base:\n",
            "     |  \n",
            "     |  __dict__\n",
            "     |      dictionary for instance variables\n",
            "     |  \n",
            "     |  __weakref__\n",
            "     |      list of weak references to the object\n",
            "     |  \n",
            "     |  ----------------------------------------------------------------------\n",
            "     |  Data and other attributes inherited from meteostat.interface.base.Base:\n",
            "     |  \n",
            "     |  autoclean = True\n",
            "     |  \n",
            "     |  cache_dir = '/root/.meteostat/cache'\n",
            "     |  \n",
            "     |  max_age = 86400\n",
            "     |  \n",
            "     |  processes = 1\n",
            "     |  \n",
            "     |  proxy = None\n",
            "     |  \n",
            "     |  threads = 1\n",
            "    \n",
            "    class Normals(meteostat.interface.meteodata.MeteoData)\n",
            "     |  Normals(loc: Union[pandas.core.frame.DataFrame, meteostat.interface.point.Point, list, str], start: int = None, end: int = None) -> None\n",
            "     |  \n",
            "     |  Retrieve climate normals for one or multiple weather stations or\n",
            "     |  a single geographical point\n",
            "     |  \n",
            "     |  Method resolution order:\n",
            "     |      Normals\n",
            "     |      meteostat.interface.meteodata.MeteoData\n",
            "     |      meteostat.interface.base.Base\n",
            "     |      builtins.object\n",
            "     |  \n",
            "     |  Methods defined here:\n",
            "     |  \n",
            "     |  __init__(self, loc: Union[pandas.core.frame.DataFrame, meteostat.interface.point.Point, list, str], start: int = None, end: int = None) -> None\n",
            "     |      Initialize self.  See help(type(self)) for accurate signature.\n",
            "     |  \n",
            "     |  convert(self, units: dict) from meteostat.series.convert\n",
            "     |      Convert columns to a different unit\n",
            "     |  \n",
            "     |  count(self) -> int from meteostat.series.count\n",
            "     |      Return number of rows in DataFrame\n",
            "     |  \n",
            "     |  fetch(self) -> pandas.core.frame.DataFrame\n",
            "     |      Fetch DataFrame\n",
            "     |  \n",
            "     |  normalize(self)\n",
            "     |      Normalize the DataFrame\n",
            "     |  \n",
            "     |  ----------------------------------------------------------------------\n",
            "     |  Class methods defined here:\n",
            "     |  \n",
            "     |  clear_cache(max_age: int = None) -> None from meteostat.core.cache\n",
            "     |      Clear the cache\n",
            "     |  \n",
            "     |  ----------------------------------------------------------------------\n",
            "     |  Data and other attributes defined here:\n",
            "     |  \n",
            "     |  __annotations__ = {'_data': <class 'pandas.core.frame.DataFrame'>, '_e...\n",
            "     |  \n",
            "     |  cache_subdir = 'normals'\n",
            "     |  \n",
            "     |  granularity = <Granularity.NORMALS: 'normals'>\n",
            "     |  \n",
            "     |  ----------------------------------------------------------------------\n",
            "     |  Data descriptors inherited from meteostat.interface.base.Base:\n",
            "     |  \n",
            "     |  __dict__\n",
            "     |      dictionary for instance variables\n",
            "     |  \n",
            "     |  __weakref__\n",
            "     |      list of weak references to the object\n",
            "     |  \n",
            "     |  ----------------------------------------------------------------------\n",
            "     |  Data and other attributes inherited from meteostat.interface.base.Base:\n",
            "     |  \n",
            "     |  autoclean = True\n",
            "     |  \n",
            "     |  cache_dir = '/root/.meteostat/cache'\n",
            "     |  \n",
            "     |  endpoint = 'https://bulk.meteostat.net/v2/'\n",
            "     |  \n",
            "     |  max_age = 86400\n",
            "     |  \n",
            "     |  processes = 1\n",
            "     |  \n",
            "     |  proxy = None\n",
            "     |  \n",
            "     |  threads = 1\n",
            "    \n",
            "    class Point(builtins.object)\n",
            "     |  Point(lat: float, lon: float, alt: int = None) -> None\n",
            "     |  \n",
            "     |  Automatically select weather stations by geographic location\n",
            "     |  \n",
            "     |  Methods defined here:\n",
            "     |  \n",
            "     |  __init__(self, lat: float, lon: float, alt: int = None) -> None\n",
            "     |      Initialize self.  See help(type(self)) for accurate signature.\n",
            "     |  \n",
            "     |  get_stations(self, freq: str = None, start: datetime.datetime = None, end: datetime.datetime = None, model: bool = True) -> pandas.core.frame.DataFrame\n",
            "     |      Get list of nearby weather stations\n",
            "     |  \n",
            "     |  ----------------------------------------------------------------------\n",
            "     |  Readonly properties defined here:\n",
            "     |  \n",
            "     |  alt\n",
            "     |      Returns the point's altitude\n",
            "     |  \n",
            "     |  stations\n",
            "     |      Returns the point's weather stations\n",
            "     |  \n",
            "     |  ----------------------------------------------------------------------\n",
            "     |  Data descriptors defined here:\n",
            "     |  \n",
            "     |  __dict__\n",
            "     |      dictionary for instance variables\n",
            "     |  \n",
            "     |  __weakref__\n",
            "     |      list of weak references to the object\n",
            "     |  \n",
            "     |  ----------------------------------------------------------------------\n",
            "     |  Data and other attributes defined here:\n",
            "     |  \n",
            "     |  __annotations__ = {'_alt': <class 'int'>, '_lat': <class 'float'>, '_l...\n",
            "     |  \n",
            "     |  adapt_temp = True\n",
            "     |  \n",
            "     |  alt_range = 350\n",
            "     |  \n",
            "     |  max_count = 4\n",
            "     |  \n",
            "     |  method = 'nearest'\n",
            "     |  \n",
            "     |  radius = 35000\n",
            "     |  \n",
            "     |  weight_alt = 0.4\n",
            "     |  \n",
            "     |  weight_dist = 0.6\n",
            "    \n",
            "    class Stations(meteostat.interface.base.Base)\n",
            "     |  Stations() -> None\n",
            "     |  \n",
            "     |  Select weather stations from the full list of stations\n",
            "     |  \n",
            "     |  Method resolution order:\n",
            "     |      Stations\n",
            "     |      meteostat.interface.base.Base\n",
            "     |      builtins.object\n",
            "     |  \n",
            "     |  Methods defined here:\n",
            "     |  \n",
            "     |  __init__(self) -> None\n",
            "     |      Initialize self.  See help(type(self)) for accurate signature.\n",
            "     |  \n",
            "     |  bounds(self, top_left: tuple, bottom_right: tuple) -> 'Stations'\n",
            "     |      Filter weather stations by geographical bounds\n",
            "     |  \n",
            "     |  convert(self, units: dict) -> 'Stations'\n",
            "     |      Convert columns to a different unit\n",
            "     |  \n",
            "     |  count(self) -> int\n",
            "     |      Return number of weather stations in current selection\n",
            "     |  \n",
            "     |  fetch(self, limit: int = None, sample: bool = False) -> pandas.core.frame.DataFrame\n",
            "     |      Fetch all weather stations or a (sampled) subset\n",
            "     |  \n",
            "     |  inventory(self, freq: str, required: Union[datetime.datetime, tuple, bool] = True) -> 'Stations'\n",
            "     |      Filter weather stations by inventory data\n",
            "     |  \n",
            "     |  nearby(self, lat: float, lon: float, radius: int = None) -> 'Stations'\n",
            "     |      Sort/filter weather stations by physical distance\n",
            "     |  \n",
            "     |  region(self, country: str, state: str = None) -> 'Stations'\n",
            "     |      Filter weather stations by country/region code\n",
            "     |  \n",
            "     |  ----------------------------------------------------------------------\n",
            "     |  Class methods defined here:\n",
            "     |  \n",
            "     |  clear_cache(max_age: int = None) -> None from meteostat.core.cache\n",
            "     |      Clear the cache\n",
            "     |  \n",
            "     |  ----------------------------------------------------------------------\n",
            "     |  Data and other attributes defined here:\n",
            "     |  \n",
            "     |  __annotations__ = {'_columns': <class 'list'>, '_data': <class 'pandas...\n",
            "     |  \n",
            "     |  __slotnames__ = []\n",
            "     |  \n",
            "     |  cache_subdir = 'stations'\n",
            "     |  \n",
            "     |  ----------------------------------------------------------------------\n",
            "     |  Data descriptors inherited from meteostat.interface.base.Base:\n",
            "     |  \n",
            "     |  __dict__\n",
            "     |      dictionary for instance variables\n",
            "     |  \n",
            "     |  __weakref__\n",
            "     |      list of weak references to the object\n",
            "     |  \n",
            "     |  ----------------------------------------------------------------------\n",
            "     |  Data and other attributes inherited from meteostat.interface.base.Base:\n",
            "     |  \n",
            "     |  autoclean = True\n",
            "     |  \n",
            "     |  cache_dir = '/root/.meteostat/cache'\n",
            "     |  \n",
            "     |  endpoint = 'https://bulk.meteostat.net/v2/'\n",
            "     |  \n",
            "     |  max_age = 86400\n",
            "     |  \n",
            "     |  processes = 1\n",
            "     |  \n",
            "     |  proxy = None\n",
            "     |  \n",
            "     |  threads = 1\n",
            "    \n",
            "    class TimeSeries(meteostat.interface.meteodata.MeteoData)\n",
            "     |  TimeSeries class which provides features which are\n",
            "     |  used across all time series classes\n",
            "     |  \n",
            "     |  Method resolution order:\n",
            "     |      TimeSeries\n",
            "     |      meteostat.interface.meteodata.MeteoData\n",
            "     |      meteostat.interface.base.Base\n",
            "     |      builtins.object\n",
            "     |  \n",
            "     |  Methods defined here:\n",
            "     |  \n",
            "     |  aggregate(self, freq: str = None, spatial: bool = False) from meteostat.series.aggregate\n",
            "     |      Aggregate observations\n",
            "     |  \n",
            "     |  convert(self, units: dict) from meteostat.series.convert\n",
            "     |      Convert columns to a different unit\n",
            "     |  \n",
            "     |  count(self) -> int from meteostat.series.count\n",
            "     |      Return number of rows in DataFrame\n",
            "     |  \n",
            "     |  coverage(self, parameter: str = None) -> float from meteostat.series.coverage\n",
            "     |      Calculate data coverage (overall or by parameter)\n",
            "     |  \n",
            "     |  fetch(self) -> pandas.core.frame.DataFrame from meteostat.series.fetch\n",
            "     |      Fetch DataFrame\n",
            "     |  \n",
            "     |  interpolate(self, limit: int = 3) from meteostat.series.interpolate\n",
            "     |      Interpolate NULL values\n",
            "     |  \n",
            "     |  normalize(self) from meteostat.series.normalize\n",
            "     |      Normalize the DataFrame\n",
            "     |  \n",
            "     |  ----------------------------------------------------------------------\n",
            "     |  Class methods defined here:\n",
            "     |  \n",
            "     |  clear_cache(max_age: int = None) -> None from meteostat.core.cache\n",
            "     |      Clear the cache\n",
            "     |  \n",
            "     |  ----------------------------------------------------------------------\n",
            "     |  Readonly properties defined here:\n",
            "     |  \n",
            "     |  stations\n",
            "     |      Fetch Weather Stations\n",
            "     |  \n",
            "     |  ----------------------------------------------------------------------\n",
            "     |  Data and other attributes defined here:\n",
            "     |  \n",
            "     |  __annotations__ = {'_end': typing.Optional[datetime.datetime], '_origi...\n",
            "     |  \n",
            "     |  endpoint = 'https://data.meteostat.net/'\n",
            "     |  \n",
            "     |  ----------------------------------------------------------------------\n",
            "     |  Data descriptors inherited from meteostat.interface.base.Base:\n",
            "     |  \n",
            "     |  __dict__\n",
            "     |      dictionary for instance variables\n",
            "     |  \n",
            "     |  __weakref__\n",
            "     |      list of weak references to the object\n",
            "     |  \n",
            "     |  ----------------------------------------------------------------------\n",
            "     |  Data and other attributes inherited from meteostat.interface.base.Base:\n",
            "     |  \n",
            "     |  autoclean = True\n",
            "     |  \n",
            "     |  cache_dir = '/root/.meteostat/cache'\n",
            "     |  \n",
            "     |  max_age = 86400\n",
            "     |  \n",
            "     |  processes = 1\n",
            "     |  \n",
            "     |  proxy = None\n",
            "     |  \n",
            "     |  threads = 1\n",
            "\n",
            "DATA\n",
            "    __all__ = ['Base', 'TimeSeries', 'Stations', 'Point', 'Hourly', 'Daily...\n",
            "    __appname__ = 'meteostat'\n",
            "\n",
            "VERSION\n",
            "    1.7.4\n",
            "\n",
            "FILE\n",
            "    /usr/local/lib/python3.11/dist-packages/meteostat/__init__.py\n",
            "\n",
            "\n"
          ]
        }
      ]
    },
    {
      "cell_type": "markdown",
      "source": [
        "## 🪛 Manipulate the Data"
      ],
      "metadata": {
        "id": "0V-FH6PCFLeb"
      },
      "id": "0V-FH6PCFLeb"
    },
    {
      "cell_type": "code",
      "source": [
        "# 1. Filter rows where average temp is above 25°C\n",
        "hot_days = pl_df.filter(pl_df[\"tavg\"] > 25)\n",
        "print(\"Hot Days (>25°C):\")\n",
        "print(hot_days)"
      ],
      "metadata": {
        "id": "SKf9VLo6FLDe",
        "colab": {
          "base_uri": "https://localhost:8080/"
        },
        "outputId": "55a81c94-f30f-4e5b-c341-9f7fe4e85ee4"
      },
      "id": "SKf9VLo6FLDe",
      "execution_count": null,
      "outputs": [
        {
          "output_type": "stream",
          "name": "stdout",
          "text": [
            "Hot Days (>25°C):\n",
            "shape: (21, 11)\n",
            "┌─────────────────────┬──────┬──────┬──────┬───┬──────┬──────┬────────┬──────┐\n",
            "│ time                ┆ tavg ┆ tmin ┆ tmax ┆ … ┆ wspd ┆ wpgt ┆ pres   ┆ tsun │\n",
            "│ ---                 ┆ ---  ┆ ---  ┆ ---  ┆   ┆ ---  ┆ ---  ┆ ---    ┆ ---  │\n",
            "│ datetime[ns]        ┆ f64  ┆ f64  ┆ f64  ┆   ┆ f64  ┆ f64  ┆ f64    ┆ f64  │\n",
            "╞═════════════════════╪══════╪══════╪══════╪═══╪══════╪══════╪════════╪══════╡\n",
            "│ 2025-06-19 00:00:00 ┆ 26.4 ┆ 21.3 ┆ 33.9 ┆ … ┆ 8.2  ┆ null ┆ 1009.1 ┆ null │\n",
            "│ 2025-06-20 00:00:00 ┆ 25.2 ┆ 18.6 ┆ 31.1 ┆ … ┆ 13.2 ┆ null ┆ 1012.2 ┆ null │\n",
            "│ 2025-06-21 00:00:00 ┆ 26.5 ┆ 21.1 ┆ 32.2 ┆ … ┆ 8.2  ┆ null ┆ 1018.9 ┆ null │\n",
            "│ 2025-06-22 00:00:00 ┆ 27.6 ┆ 22.0 ┆ 34.9 ┆ … ┆ 12.6 ┆ null ┆ 1017.6 ┆ null │\n",
            "│ 2025-06-23 00:00:00 ┆ 31.6 ┆ 26.6 ┆ 37.4 ┆ … ┆ 5.2  ┆ null ┆ 1018.2 ┆ null │\n",
            "│ …                   ┆ …    ┆ …    ┆ …    ┆ … ┆ …    ┆ …    ┆ …      ┆ …    │\n",
            "│ 2025-07-08 00:00:00 ┆ 28.4 ┆ 24.7 ┆ 35.9 ┆ … ┆ 10.1 ┆ null ┆ 1015.0 ┆ null │\n",
            "│ 2025-07-09 00:00:00 ┆ 26.9 ┆ 22.1 ┆ 31.3 ┆ … ┆ 11.3 ┆ null ┆ 1015.7 ┆ null │\n",
            "│ 2025-07-13 00:00:00 ┆ 25.4 ┆ 22.6 ┆ 28.7 ┆ … ┆ 12.2 ┆ null ┆ 1018.3 ┆ null │\n",
            "│ 2025-07-14 00:00:00 ┆ 25.7 ┆ 23.2 ┆ 30.5 ┆ … ┆ 11.2 ┆ null ┆ 1017.7 ┆ null │\n",
            "│ 2025-07-15 00:00:00 ┆ 25.1 ┆ 22.8 ┆ 28.3 ┆ … ┆ 8.5  ┆ null ┆ 1017.8 ┆ null │\n",
            "└─────────────────────┴──────┴──────┴──────┴───┴──────┴──────┴────────┴──────┘\n"
          ]
        }
      ]
    },
    {
      "cell_type": "code",
      "source": [
        "# 2. Find the hottest day\n",
        "hottest_day = pl_df.sort(\"tmax\", descending=True).select([\"time\", \"tmax\"]).head(1)\n",
        "print(\"\\nHottest Day:\")\n",
        "print(hottest_day)\n"
      ],
      "metadata": {
        "colab": {
          "base_uri": "https://localhost:8080/"
        },
        "id": "SCunbSYtURSi",
        "outputId": "0eeff979-8a8b-4fc4-d34a-c1ed626099c3"
      },
      "id": "SCunbSYtURSi",
      "execution_count": null,
      "outputs": [
        {
          "output_type": "stream",
          "name": "stdout",
          "text": [
            "\n",
            "Hottest Day:\n",
            "shape: (1, 2)\n",
            "┌─────────────────────┬──────┐\n",
            "│ time                ┆ tmax │\n",
            "│ ---                 ┆ ---  │\n",
            "│ datetime[ns]        ┆ f64  │\n",
            "╞═════════════════════╪══════╡\n",
            "│ 2025-06-24 00:00:00 ┆ 42.8 │\n",
            "└─────────────────────┴──────┘\n"
          ]
        }
      ]
    },
    {
      "cell_type": "code",
      "source": [
        "# 3. Total precipitation\n",
        "total_precip = pl_df.select(pl.col(\"prcp\").sum().alias(\"total_precip_mm\"))\n",
        "print(\"\\nTotal Precipitation:\")\n",
        "print(total_precip)\n"
      ],
      "metadata": {
        "colab": {
          "base_uri": "https://localhost:8080/"
        },
        "id": "pTKzpWg1URMV",
        "outputId": "7233c198-ace3-4d67-de84-d61a5e1c7cb3"
      },
      "id": "pTKzpWg1URMV",
      "execution_count": null,
      "outputs": [
        {
          "output_type": "stream",
          "name": "stdout",
          "text": [
            "\n",
            "Total Precipitation:\n",
            "shape: (1, 1)\n",
            "┌─────────────────┐\n",
            "│ total_precip_mm │\n",
            "│ ---             │\n",
            "│ f64             │\n",
            "╞═════════════════╡\n",
            "│ 93.9            │\n",
            "└─────────────────┘\n"
          ]
        }
      ]
    },
    {
      "cell_type": "code",
      "source": [
        "# 4. 7-day rolling average temperature\n",
        "rolling_avg = pl_df.select([\n",
        "    \"time\",\n",
        "    pl.col(\"tavg\").rolling_mean(window_size=7).alias(\"tavg_7d_avg\")\n",
        "])\n",
        "print(\"\\n7-Day Rolling Average Temperature:\")\n",
        "print(rolling_avg)\n"
      ],
      "metadata": {
        "colab": {
          "base_uri": "https://localhost:8080/"
        },
        "id": "YP-7wXcXURE3",
        "outputId": "9fa4e9f1-68b6-4a62-a094-2a10f19df5a1"
      },
      "id": "YP-7wXcXURE3",
      "execution_count": null,
      "outputs": [
        {
          "output_type": "stream",
          "name": "stdout",
          "text": [
            "\n",
            "7-Day Rolling Average Temperature:\n",
            "shape: (30, 2)\n",
            "┌─────────────────────┬─────────────┐\n",
            "│ time                ┆ tavg_7d_avg │\n",
            "│ ---                 ┆ ---         │\n",
            "│ datetime[ns]        ┆ f64         │\n",
            "╞═════════════════════╪═════════════╡\n",
            "│ 2025-06-16 00:00:00 ┆ null        │\n",
            "│ 2025-06-17 00:00:00 ┆ null        │\n",
            "│ 2025-06-18 00:00:00 ┆ null        │\n",
            "│ 2025-06-19 00:00:00 ┆ null        │\n",
            "│ 2025-06-20 00:00:00 ┆ null        │\n",
            "│ …                   ┆ …           │\n",
            "│ 2025-07-11 00:00:00 ┆ 26.342857   │\n",
            "│ 2025-07-12 00:00:00 ┆ 26.328571   │\n",
            "│ 2025-07-13 00:00:00 ┆ 26.014286   │\n",
            "│ 2025-07-14 00:00:00 ┆ 25.8        │\n",
            "│ 2025-07-15 00:00:00 ┆ 25.328571   │\n",
            "└─────────────────────┴─────────────┘\n"
          ]
        }
      ]
    },
    {
      "cell_type": "code",
      "source": [
        "# 5. Add daily temperature range column\n",
        "with_temp_range = pl_df.with_columns([\n",
        "    (pl.col(\"tmax\") - pl.col(\"tmin\")).alias(\"temp_range\")\n",
        "])\n",
        "print(\"\\nTemperature Range Column:\")\n",
        "print(with_temp_range)\n"
      ],
      "metadata": {
        "colab": {
          "base_uri": "https://localhost:8080/"
        },
        "id": "JQ54ZE4sUQ8W",
        "outputId": "14d051ec-3c14-48cb-e74e-3dd503b38f25"
      },
      "id": "JQ54ZE4sUQ8W",
      "execution_count": null,
      "outputs": [
        {
          "output_type": "stream",
          "name": "stdout",
          "text": [
            "\n",
            "Temperature Range Column:\n",
            "shape: (30, 12)\n",
            "┌─────────────────────┬──────┬──────┬──────┬───┬──────┬────────┬──────┬────────────┐\n",
            "│ time                ┆ tavg ┆ tmin ┆ tmax ┆ … ┆ wpgt ┆ pres   ┆ tsun ┆ temp_range │\n",
            "│ ---                 ┆ ---  ┆ ---  ┆ ---  ┆   ┆ ---  ┆ ---    ┆ ---  ┆ ---        │\n",
            "│ datetime[ns]        ┆ f64  ┆ f64  ┆ f64  ┆   ┆ f64  ┆ f64    ┆ f64  ┆ f64        │\n",
            "╞═════════════════════╪══════╪══════╪══════╪═══╪══════╪════════╪══════╪════════════╡\n",
            "│ 2025-06-16 00:00:00 ┆ 18.3 ┆ 15.7 ┆ 21.0 ┆ … ┆ null ┆ 1020.3 ┆ null ┆ 5.3        │\n",
            "│ 2025-06-17 00:00:00 ┆ 18.9 ┆ 16.8 ┆ 22.0 ┆ … ┆ null ┆ 1017.5 ┆ null ┆ 5.2        │\n",
            "│ 2025-06-18 00:00:00 ┆ 23.2 ┆ 18.2 ┆ 32.0 ┆ … ┆ null ┆ 1013.6 ┆ null ┆ 13.8       │\n",
            "│ 2025-06-19 00:00:00 ┆ 26.4 ┆ 21.3 ┆ 33.9 ┆ … ┆ null ┆ 1009.1 ┆ null ┆ 12.6       │\n",
            "│ 2025-06-20 00:00:00 ┆ 25.2 ┆ 18.6 ┆ 31.1 ┆ … ┆ null ┆ 1012.2 ┆ null ┆ 12.5       │\n",
            "│ …                   ┆ …    ┆ …    ┆ …    ┆ … ┆ …    ┆ …      ┆ …    ┆ …          │\n",
            "│ 2025-07-11 00:00:00 ┆ 24.4 ┆ 20.3 ┆ 27.8 ┆ … ┆ null ┆ 1017.0 ┆ null ┆ 7.5        │\n",
            "│ 2025-07-12 00:00:00 ┆ 25.0 ┆ 19.7 ┆ 29.5 ┆ … ┆ null ┆ 1018.6 ┆ null ┆ 9.8        │\n",
            "│ 2025-07-13 00:00:00 ┆ 25.4 ┆ 22.6 ┆ 28.7 ┆ … ┆ null ┆ 1018.3 ┆ null ┆ 6.1        │\n",
            "│ 2025-07-14 00:00:00 ┆ 25.7 ┆ 23.2 ┆ 30.5 ┆ … ┆ null ┆ 1017.7 ┆ null ┆ 7.3        │\n",
            "│ 2025-07-15 00:00:00 ┆ 25.1 ┆ 22.8 ┆ 28.3 ┆ … ┆ null ┆ 1017.8 ┆ null ┆ 5.5        │\n",
            "└─────────────────────┴──────┴──────┴──────┴───┴──────┴────────┴──────┴────────────┘\n"
          ]
        }
      ]
    },
    {
      "cell_type": "code",
      "source": [
        "# 6. Max wind gust and when it happened\n",
        "max_gust = pl_df.sort(\"wpgt\", descending=True).select([\"time\", \"wpgt\"]).head(1)\n",
        "print(\"\\nMax Wind Gust:\")\n",
        "print(max_gust)\n"
      ],
      "metadata": {
        "colab": {
          "base_uri": "https://localhost:8080/"
        },
        "id": "HnpCuQT_UQzl",
        "outputId": "00444c38-6e9d-4e89-ea11-e4e4d942592f"
      },
      "id": "HnpCuQT_UQzl",
      "execution_count": null,
      "outputs": [
        {
          "output_type": "stream",
          "name": "stdout",
          "text": [
            "\n",
            "Max Wind Gust:\n",
            "shape: (1, 2)\n",
            "┌─────────────────────┬──────┐\n",
            "│ time                ┆ wpgt │\n",
            "│ ---                 ┆ ---  │\n",
            "│ datetime[ns]        ┆ f64  │\n",
            "╞═════════════════════╪══════╡\n",
            "│ 2025-07-15 00:00:00 ┆ null │\n",
            "└─────────────────────┴──────┘\n"
          ]
        }
      ]
    },
    {
      "cell_type": "code",
      "source": [
        "# 7. Weekly average temperature\n",
        "weekly_avg = (\n",
        "    pl_df.with_columns([\n",
        "        pl.col(\"time\").dt.week().alias(\"week\")\n",
        "    ])\n",
        "    .group_by(\"week\")\n",
        "    .agg([\n",
        "        pl.col(\"tavg\").mean().alias(\"weekly_avg_temp\")\n",
        "    ])\n",
        ")\n",
        "print(\"\\nWeekly Average Temperature:\")\n",
        "print(weekly_avg)\n"
      ],
      "metadata": {
        "colab": {
          "base_uri": "https://localhost:8080/"
        },
        "id": "2PmfDF6vUjuc",
        "outputId": "f2f34732-7053-4000-ca34-b46b42d21a32"
      },
      "id": "2PmfDF6vUjuc",
      "execution_count": null,
      "outputs": [
        {
          "output_type": "stream",
          "name": "stdout",
          "text": [
            "\n",
            "Weekly Average Temperature:\n",
            "shape: (5, 2)\n",
            "┌──────┬─────────────────┐\n",
            "│ week ┆ weekly_avg_temp │\n",
            "│ ---  ┆ ---             │\n",
            "│ i8   ┆ f64             │\n",
            "╞══════╪═════════════════╡\n",
            "│ 27   ┆ 26.2            │\n",
            "│ 26   ┆ 28.014286       │\n",
            "│ 29   ┆ 25.4            │\n",
            "│ 28   ┆ 26.014286       │\n",
            "│ 25   ┆ 23.728571       │\n",
            "└──────┴─────────────────┘\n"
          ]
        }
      ]
    },
    {
      "cell_type": "code",
      "source": [
        "# 8. Categorize temperature\n",
        "categorized = pl_df.with_columns([\n",
        "    pl.when(pl.col(\"tavg\") >= 25).then(pl.lit(\"Hot\"))\n",
        "      .when(pl.col(\"tavg\") >= 15).then(pl.lit(\"Mild\"))\n",
        "      .otherwise(pl.lit(\"Cold\"))\n",
        "      .alias(\"temp_category\")\n",
        "])\n",
        "print(\"\\nTemperature Categories:\")\n",
        "print(categorized)\n"
      ],
      "metadata": {
        "colab": {
          "base_uri": "https://localhost:8080/"
        },
        "id": "78ryxSAXUji2",
        "outputId": "dac30d0d-b0a6-4f8c-e297-809506463fc7"
      },
      "id": "78ryxSAXUji2",
      "execution_count": null,
      "outputs": [
        {
          "output_type": "stream",
          "name": "stdout",
          "text": [
            "\n",
            "Temperature Categories:\n",
            "shape: (30, 12)\n",
            "┌─────────────────────┬──────┬──────┬──────┬───┬──────┬────────┬──────┬───────────────┐\n",
            "│ time                ┆ tavg ┆ tmin ┆ tmax ┆ … ┆ wpgt ┆ pres   ┆ tsun ┆ temp_category │\n",
            "│ ---                 ┆ ---  ┆ ---  ┆ ---  ┆   ┆ ---  ┆ ---    ┆ ---  ┆ ---           │\n",
            "│ datetime[ns]        ┆ f64  ┆ f64  ┆ f64  ┆   ┆ f64  ┆ f64    ┆ f64  ┆ str           │\n",
            "╞═════════════════════╪══════╪══════╪══════╪═══╪══════╪════════╪══════╪═══════════════╡\n",
            "│ 2025-06-16 00:00:00 ┆ 18.3 ┆ 15.7 ┆ 21.0 ┆ … ┆ null ┆ 1020.3 ┆ null ┆ Mild          │\n",
            "│ 2025-06-17 00:00:00 ┆ 18.9 ┆ 16.8 ┆ 22.0 ┆ … ┆ null ┆ 1017.5 ┆ null ┆ Mild          │\n",
            "│ 2025-06-18 00:00:00 ┆ 23.2 ┆ 18.2 ┆ 32.0 ┆ … ┆ null ┆ 1013.6 ┆ null ┆ Mild          │\n",
            "│ 2025-06-19 00:00:00 ┆ 26.4 ┆ 21.3 ┆ 33.9 ┆ … ┆ null ┆ 1009.1 ┆ null ┆ Hot           │\n",
            "│ 2025-06-20 00:00:00 ┆ 25.2 ┆ 18.6 ┆ 31.1 ┆ … ┆ null ┆ 1012.2 ┆ null ┆ Hot           │\n",
            "│ …                   ┆ …    ┆ …    ┆ …    ┆ … ┆ …    ┆ …      ┆ …    ┆ …             │\n",
            "│ 2025-07-11 00:00:00 ┆ 24.4 ┆ 20.3 ┆ 27.8 ┆ … ┆ null ┆ 1017.0 ┆ null ┆ Mild          │\n",
            "│ 2025-07-12 00:00:00 ┆ 25.0 ┆ 19.7 ┆ 29.5 ┆ … ┆ null ┆ 1018.6 ┆ null ┆ Hot           │\n",
            "│ 2025-07-13 00:00:00 ┆ 25.4 ┆ 22.6 ┆ 28.7 ┆ … ┆ null ┆ 1018.3 ┆ null ┆ Hot           │\n",
            "│ 2025-07-14 00:00:00 ┆ 25.7 ┆ 23.2 ┆ 30.5 ┆ … ┆ null ┆ 1017.7 ┆ null ┆ Hot           │\n",
            "│ 2025-07-15 00:00:00 ┆ 25.1 ┆ 22.8 ┆ 28.3 ┆ … ┆ null ┆ 1017.8 ┆ null ┆ Hot           │\n",
            "└─────────────────────┴──────┴──────┴──────┴───┴──────┴────────┴──────┴───────────────┘\n"
          ]
        }
      ]
    },
    {
      "cell_type": "code",
      "source": [
        "# 9. Days with no wind\n",
        "no_wind = pl_df.filter(pl.col(\"wspd\") == 0).select([\"time\", \"wspd\"])\n",
        "print(\"\\nDays with No Wind:\")\n",
        "print(no_wind)\n"
      ],
      "metadata": {
        "colab": {
          "base_uri": "https://localhost:8080/"
        },
        "id": "LnM5i2n6Ujbj",
        "outputId": "10e956e7-e9f8-4d59-f6e4-ecdc976a4c54"
      },
      "id": "LnM5i2n6Ujbj",
      "execution_count": null,
      "outputs": [
        {
          "output_type": "stream",
          "name": "stdout",
          "text": [
            "\n",
            "Days with No Wind:\n",
            "shape: (0, 2)\n",
            "┌──────────────┬──────┐\n",
            "│ time         ┆ wspd │\n",
            "│ ---          ┆ ---  │\n",
            "│ datetime[ns] ┆ f64  │\n",
            "╞══════════════╪══════╡\n",
            "└──────────────┴──────┘\n"
          ]
        }
      ]
    },
    {
      "cell_type": "code",
      "source": [
        "# 10. Count of snowy days\n",
        "snowy_days = pl_df.filter(pl.col(\"snow\") > 0).select(pl.count().alias(\"snowy_days\"))\n",
        "print(\"\\nSnowy Days Count:\")\n",
        "print(snowy_days)\n"
      ],
      "metadata": {
        "colab": {
          "base_uri": "https://localhost:8080/"
        },
        "id": "J2II_xS9UQOK",
        "outputId": "007e47c6-1a54-4199-ffa5-fc1feabe920a"
      },
      "id": "J2II_xS9UQOK",
      "execution_count": null,
      "outputs": [
        {
          "output_type": "stream",
          "name": "stdout",
          "text": [
            "\n",
            "Snowy Days Count:\n",
            "shape: (1, 1)\n",
            "┌────────────┐\n",
            "│ snowy_days │\n",
            "│ ---        │\n",
            "│ u32        │\n",
            "╞════════════╡\n",
            "│ 0          │\n",
            "└────────────┘\n"
          ]
        },
        {
          "output_type": "stream",
          "name": "stderr",
          "text": [
            "DeprecationWarning: `pl.count()` is deprecated. Please use `pl.len()` instead.\n"
          ]
        }
      ]
    },
    {
      "cell_type": "markdown",
      "id": "6dcf93ac",
      "metadata": {
        "id": "6dcf93ac"
      },
      "source": [
        "## 📈 Plot the Daily Average Temperature"
      ]
    },
    {
      "cell_type": "code",
      "execution_count": null,
      "id": "10f1b877",
      "metadata": {
        "colab": {
          "base_uri": "https://localhost:8080/",
          "height": 507
        },
        "id": "10f1b877",
        "outputId": "22e6dc08-5bc1-46af-e9a0-6891341f3bd1"
      },
      "outputs": [
        {
          "output_type": "display_data",
          "data": {
            "text/plain": [
              "<Figure size 1000x500 with 1 Axes>"
            ],
            "image/png": "[encoded data removed]"
          },
          "metadata": {}
        }
      ],
      "source": [
        "# Extract dates and temperatures\n",
        "dates = pl_df['time'].to_list()\n",
        "temps = pl_df['tavg'].to_list()\n",
        "\n",
        "plt.figure(figsize=(10, 5))\n",
        "plt.plot(dates, temps, marker='o')\n",
        "plt.title(\"Average Daily Temperature - Last 30 Days\")\n",
        "plt.xlabel(\"Date\")\n",
        "plt.ylabel(\"Temperature (°C)\")\n",
        "plt.grid(True)\n",
        "plt.xticks(rotation=45)\n",
        "plt.tight_layout()\n",
        "plt.show()"
      ]
    },
    {
      "cell_type": "markdown",
      "id": "864d77e3",
      "metadata": {
        "id": "864d77e3"
      },
      "source": [
        "## 💡 Challenges\n",
        "\n",
        "Try one or more of these stretch goals:\n",
        "\n",
        "- 🔄 Change the location to your city (use latitude and longitude)\n",
        "- 🔍 Find the hottest and coldest day\n",
        "- 📊 Plot minimum and maximum temperatures\n",
        "- 📉 Add a moving average to smooth the plot"
      ]
    }
  ],
  "metadata": {
    "colab": {
      "provenance": [],
      "include_colab_link": true
    },
    "language_info": {
      "name": "python"
    },
    "kernelspec": {
      "name": "python3",
      "display_name": "Python 3"
    }
  },
  "nbformat": 4,
  "nbformat_minor": 5
}